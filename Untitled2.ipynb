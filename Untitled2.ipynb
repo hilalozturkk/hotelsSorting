{
 "cells": [
  {
   "cell_type": "code",
   "execution_count": 12,
   "id": "greatest-realtor",
   "metadata": {},
   "outputs": [],
   "source": [
    "import numpy as np\n",
    "import pandas as pd\n",
    "import matplotlib.pyplot as plt\n",
    "import os"
   ]
  },
  {
   "cell_type": "code",
   "execution_count": 13,
   "id": "unknown-corps",
   "metadata": {
    "scrolled": true
   },
   "outputs": [
    {
     "output_type": "execute_result",
     "data": {
      "text/plain": [
       "            Hotel_name                                  Title  \\\n",
       "0  Accord Metropolitan  Excellent comfortableness during stay   \n",
       "1  Accord Metropolitan                    Not too comfortable   \n",
       "2  Accord Metropolitan                                    NaN   \n",
       "3  Accord Metropolitan                             Best hotel   \n",
       "4  Accord Metropolitan                                    NaN   \n",
       "\n",
       "                                         Review_Text  Sentiment  \\\n",
       "0  Its really nice place to stay especially for b...        3.0   \n",
       "1  It seems that hotel does not check the basic a...        1.0   \n",
       "2  Worst hotel I have ever encountered. I will ne...        1.0   \n",
       "3  Had a good time in this hotel and the staff Ku...        3.0   \n",
       "4  good hotel and staff Veg food good non veg bre...        3.0   \n",
       "\n",
       "   Rating_Percentage  \n",
       "0              100.0  \n",
       "1               20.0  \n",
       "2               20.0  \n",
       "3              100.0  \n",
       "4              100.0  "
      ],
      "text/html": "<div>\n<style scoped>\n    .dataframe tbody tr th:only-of-type {\n        vertical-align: middle;\n    }\n\n    .dataframe tbody tr th {\n        vertical-align: top;\n    }\n\n    .dataframe thead th {\n        text-align: right;\n    }\n</style>\n<table border=\"1\" class=\"dataframe\">\n  <thead>\n    <tr style=\"text-align: right;\">\n      <th></th>\n      <th>Hotel_name</th>\n      <th>Title</th>\n      <th>Review_Text</th>\n      <th>Sentiment</th>\n      <th>Rating_Percentage</th>\n    </tr>\n  </thead>\n  <tbody>\n    <tr>\n      <th>0</th>\n      <td>Accord Metropolitan</td>\n      <td>Excellent comfortableness during stay</td>\n      <td>Its really nice place to stay especially for b...</td>\n      <td>3.0</td>\n      <td>100.0</td>\n    </tr>\n    <tr>\n      <th>1</th>\n      <td>Accord Metropolitan</td>\n      <td>Not too comfortable</td>\n      <td>It seems that hotel does not check the basic a...</td>\n      <td>1.0</td>\n      <td>20.0</td>\n    </tr>\n    <tr>\n      <th>2</th>\n      <td>Accord Metropolitan</td>\n      <td>NaN</td>\n      <td>Worst hotel I have ever encountered. I will ne...</td>\n      <td>1.0</td>\n      <td>20.0</td>\n    </tr>\n    <tr>\n      <th>3</th>\n      <td>Accord Metropolitan</td>\n      <td>Best hotel</td>\n      <td>Had a good time in this hotel and the staff Ku...</td>\n      <td>3.0</td>\n      <td>100.0</td>\n    </tr>\n    <tr>\n      <th>4</th>\n      <td>Accord Metropolitan</td>\n      <td>NaN</td>\n      <td>good hotel and staff Veg food good non veg bre...</td>\n      <td>3.0</td>\n      <td>100.0</td>\n    </tr>\n  </tbody>\n</table>\n</div>"
     },
     "metadata": {},
     "execution_count": 13
    }
   ],
   "source": [
    "df = pd.read_csv('chennai_reviews.csv')\n",
    "df.head()"
   ]
  },
  {
   "cell_type": "code",
   "execution_count": 14,
   "id": "similar-discovery",
   "metadata": {},
   "outputs": [
    {
     "output_type": "stream",
     "name": "stdout",
     "text": [
      "0         Accord Metropolitan\n1         Accord Metropolitan\n2         Accord Metropolitan\n3         Accord Metropolitan\n4         Accord Metropolitan\n                ...          \n4719    Hyatt Regency Chennai\n4720    Hyatt Regency Chennai\n4721    Hyatt Regency Chennai\n4722    Hyatt Regency Chennai\n4723    Hyatt Regency Chennai\nName: Hotel_name, Length: 4724, dtype: object\n"
     ]
    }
   ],
   "source": [
    "liste = df[\"Hotel_name\"]\n",
    "print(liste)"
   ]
  },
  {
   "cell_type": "code",
   "execution_count": 15,
   "id": "introductory-collaboration",
   "metadata": {},
   "outputs": [],
   "source": [
    "hotels = []\n",
    "x=1\n",
    "while x<len(liste):\n",
    "    \n",
    "        if df[\"Hotel_name\"].loc[x] != df[\"Hotel_name\"].loc[x-1] :\n",
    "             hotels.append(df[\"Hotel_name\"].loc[x-1])\n",
    "         \n",
    "        x += 1"
   ]
  },
  {
   "cell_type": "code",
   "execution_count": 16,
   "id": "accessible-athletics",
   "metadata": {},
   "outputs": [
    {
     "output_type": "stream",
     "name": "stdout",
     "text": [
      "0 \t Accord Metropolitan \n\n1 \t Harrisons Chennai \n\n2 \t The Park Chennai \n\n3 \t The Raintree \n\n4 \t Lemon Tree Chennai \n\n5 \t Park Hyatt \n\n6 \t The Residency Towers \n\n7 \t FabHotel Blossoms T Nagar \n\n8 \t Peace Inn \n\n9 \t Radisson Blu GRT Chennai \n\n10 \t FabHotel Priyadarshini Park Mount Road \n\n11 \t Holiday Inn Express Chennai Mahindra World City \n\n12 \t The Raintree, St. Mary's Road \n\n13 \t Taj Club House \n\n14 \t The Residency Chennai \n\n15 \t ITC Grand Chola \n\n16 \t nan \n\n17 \t ITC Grand Chola \n\n18 \t Hilton Chennai \n\n19 \t Treebo Grand Marena \n\n20 \t Savera \n\n21 \t Raj Park Chennai \n\n22 \t E Hotel \n\n23 \t nan \n\n24 \t E Hotel \n\n25 \t New Woodlands \n\n26 \t Radisson Chennai City Centre, India \n\n27 \t Fortune Select Grand \n\n28 \t Grand Tiara by Purpletree \n\n29 \t Fortel \n\n30 \t Treebo Saravana Boutique Inn \n\n31 \t Hablis Chennai \n\n32 \t Bell Hotel Chennai \n\n33 \t Somerset Greenways \n\n34 \t Hyatt Regency Chennai \n\n35 \t Radha Regent \n\n36 \t FabHotel Queensway T Nagar \n\n37 \t Deccan Plaza \n\n38 \t Taj Coromandel \n\n39 \t Treebo Hive \n\n40 \t nan \n\n41 \t Treebo Hive \n\n42 \t Courtyard Chennai India \n\n43 \t Lemon Tree Shimona \n\n44 \t Green Park \n\n45 \t Aloft Chennai Omr - It Expressway \n\n46 \t Le Royal Méridien Chennai \n\n47 \t Clarion Hotel President \n\n48 \t The Ambassador Pallava \n\n49 \t Asiana Place \n\n50 \t Treebo J's Five Two Boutique \n\n51 \t My Fortune Chennai \n\n52 \t The Gateway IT Expressway \n\n53 \t Trident Chennai \n\n54 \t Abu sarovar portico ex Abu Palace \n\n55 \t Bluten by Traditions Inn \n\n56 \t Ramada Chennai Egmore \n\n57 \t nan \n\n58 \t Ramada Chennai Egmore \n\n59 \t Grand Chennai by GRT Hotels \n\n60 \t nan \n\n61 \t Grand Chennai by GRT Hotels \n\n62 \t Turyaa Chennai \n\n63 \t The Westin Chennai Velachery \n\n64 \t Oyo Rooms Anna Arch Arumbakkam \n\n65 \t ibis Chennai Sipcot \n\n66 \t The Pride \n\n67 \t Mahalaya Residency \n\n68 \t nan \n\n69 \t Mahalaya Residency \n\n70 \t La Woods \n\n71 \t The Royal Regency \n\n72 \t JP Hotel \n\n73 \t The Leela Palace \n\n74 \t Oyo Rooms Royapettah \n\n75 \t Quality Inn Sabari \n\n76 \t Pebbles \n\n77 \t Ginger Hotel \n\n78 \t Marina Inn \n\n79 \t Regency Royal Paris \n\n80 \t BKR Grand \n\n81 \t Golden Fruits Business Suites - T Nagar \n\n82 \t The Lotus Serviced Apartments \n\n83 \t Oyo Rooms Chennai International Airport Road \n\n84 \t Park Avenue \n\n85 \t Taz Kamar Inn \n\n86 \t Novotel Chennai Sipcot \n\n87 \t The Iris \n\n88 \t nan \n\n89 \t The Iris \n\n90 \t Grand Treat \n\n91 \t Oyo Rooms T Nagar Off Pondy Bazaar \n\n92 \t Global Residency Bed & Breakfast \n\n93 \t Saibala Grand \n\n94 \t Le Park Inn \n\n95 \t Hanu Reddy Residences Poes Garden \n\n96 \t OMR Guest House \n\n97 \t nan \n\n98 \t OMR Guest House \n\n99 \t Season 4 Guest House \n\n100 \t King's Cross Residency \n\n101 \t Nachiappa Park \n\n102 \t Mars Deluxe \n\n103 \t Oyo Rooms Omr Sholinganallur \n\n104 \t Thulashi Park \n\n105 \t Zone By The Park Orr Chennai \n\n106 \t Gokulam Park \n\n107 \t OYO Apartments T Nagar Pondy Bazaar \n\n108 \t Raj Palace Sundar \n\n109 \t Oriental Inn \n\n110 \t Raj Palace Hotel \n\n111 \t nan \n\n112 \t Raj Palace Hotel \n\n113 \t The Lotus \n\n114 \t VGP Golden Beach Resort \n\n115 \t Royal Chennai Residency \n\n116 \t Nayagara \n\n117 \t Perfect Haven at Omr \n\n118 \t Victoria \n\n119 \t Ambica Empire \n\n120 \t Brownstar Boutique Hotel \n\n121 \t Fortune Select Palms \n\n122 \t Akash Inn \n\n123 \t nan \n\n124 \t Akash Inn \n\n125 \t Beverly Hotel \n\n126 \t Keys Hotel Katti-Ma \n\n127 \t Hotel Pandian \n\n128 \t Buhari Royale \n\n129 \t Suvi Annexure \n\n130 \t Lloyds Guest House \n\n131 \t Green Meadows \n\n132 \t OYO Apartments Saidapet \n\n133 \t Sathyam Grand Resorts \n\n134 \t nan \n\n135 \t Hanu Reddy Residences Wallace Garden \n\n136 \t Pearl International \n\n137 \t Planet Mount \n\n138 \t Pleasant Days \n\n139 \t Just Guest House \n\n140 \t Pp Residency \n\n141 \t Benzz Park \n\n142 \t Crescent Hospitality Chennai \n\n143 \t Opera Residency \n\n144 \t nan \n\n145 \t Opera Residency \n\n146 \t The Mount Manor \n\n147 \t Ampa Skywalk \n\n148 \t Sorrento Guest House \n\n149 \t Yashwanth Residency \n\n150 \t Lloyds Guest House - US Consulate \n\n151 \t Hotel Grand Residence Porur \n\n152 \t Ngh Transit \n\n153 \t The Checkers \n\n154 \t Samudra Residency \n\n155 \t Crescent Park \n\n156 \t nan \n\n157 \t Crescent Park \n\n158 \t Southern Residency \n\n159 \t Annsun Boutique \n\n160 \t MGM Eastwoods \n\n161 \t Green Coconut Resort \n\n162 \t Gokulam Park Sabari OMR \n\n163 \t nan \n\n164 \t Gokulam Park Sabari OMR \n\n165 \t Regency Tiruttani by GRT Hotels \n\n166 \t Royal Plaza \n\n167 \t Maple Tree \n\n168 \t Metropark - Vadapalani \n\n169 \t Emarald \n\n170 \t Grand Palace \n\n171 \t Goldmine \n\n172 \t The Vijay Park-Arumbakkam \n\n173 \t Maurya International \n\n174 \t Shylee Niwas Kodambakkam I \n\n175 \t Sangeetha Residency \n\n176 \t Mount Heera \n\n177 \t Suriya International \n\n178 \t nan \n\n179 \t Suriya International \n\n180 \t The Kings \n\n181 \t OYO Rooms Vadapalani Murugan Temple \n\n182 \t Sai International \n\n183 \t Akshay Inn \n\n184 \t Greens \n\n185 \t Zama Lodge \n\n186 \t nan \n\n187 \t Zama Lodge \n\n188 \t Star City Serviced Apartments \n\n189 \t Sona's Inn \n\n190 \t Mars \n\n191 \t Pratap Plaza \n\n192 \t Atchaya \n\n193 \t Samrat Guest House \n\n194 \t Melody \n\n195 \t Leisure Stays \n\n196 \t Redsun Serviced Apartments \n\n197 \t Sree Devi Niwas \n\n198 \t Sea Shell Residency \n\n199 \t Sai Enclave Residency \n\n200 \t Manickam Grand \n\n201 \t Southern Crest \n\n202 \t Hotel Comfort \n\n203 \t Malles Manotaa \n\n204 \t Surya Prakesh \n\n205 \t The Spring \n\n206 \t Mars Classic \n\n207 \t Ammu Palace \n\n208 \t Marsan Lodge \n\n209 \t Shri Devi Park \n\n210 \t Avnb Towers \n\n211 \t Palace Lodge \n\n212 \t Everest \n\n213 \t Dolphin Park \n\n214 \t Gemini Inn \n\n215 \t The Chariot \n\n216 \t Lake View Park \n\n217 \t Chandra Park \n\n218 \t Crystal Residency \n\n219 \t Mallika Reisidency \n\n220 \t Dee Cee Manor \n\n221 \t The Spin \n\n222 \t Hotel Shelter \n\n223 \t Kek Accommodation \n\n224 \t Raj Residency \n\n225 \t The Centre Point \n\n226 \t Frangi House \n\n227 \t Rivera \n\n228 \t Vestin Park \n\n229 \t Lotels Hotel \n\n230 \t Shan Royal \n\n231 \t Emerald Manor Chennai \n\n232 \t The Chamiers Park \n\n233 \t Hotel Kensington \n\n234 \t Goutham Manor \n\n235 \t Sheraton Park Hotel & Towers \n\n236 \t Beach Park Resort \n\n237 \t Esthell \n\n238 \t Tri Sea Residency \n\n239 \t Apple Residency \n\n240 \t Glm Meridian \n\n241 \t Chennai Palace \n\n242 \t Park Plaza Chennai \n\n243 \t Aadithya \n\n244 \t Bhimaas \n\n245 \t Sakithyan \n\n246 \t ibis Chennai City Centre \n\n247 \t Treebo Angson \n\n248 \t Treebo Nestlay Casa \n\n249 \t Holiday Inn Express Chennai Old Mahabalipuram Road \n\n250 \t Treebo Nestlay Airport \n\n251 \t Treebo Elan \n\n252 \t Quality Inn Airport \n\n253 \t Feathers- A Radha S \n\n254 \t The Lotus  Sameera \n\n255 \t Mala Inn \n\n256 \t V7 \n\n257 \t nan \n\n258 \t Oyo Rooms Guindy Olympia Tech Park \n\n259 \t Apple Residency \n\n260 \t FabHotel Metro Manor Central Station \n\n261 \t Glm Meridian \n\n262 \t Metro Grand \n\n263 \t FabHotel Metro Manor Central Station \n\n264 \t Cloud Nine Serviced Apartments \n\n265 \t Oyo Apartments Guduvanchery Srm University \n\n266 \t Royal Star \n\n267 \t Thaj Guest House \n\n268 \t nan \n\n269 \t Thaj Guest House \n\n270 \t Silver Park Guest House \n\n271 \t Thaj Regency \n\n272 \t Raaj Residency \n\n273 \t Orchid Inn Woods Road \n\n274 \t Samco \n\n275 \t BKR Convention Centre \n\n276 \t New Park \n\n277 \t Gemini Residency \n\n278 \t The Address \n\n279 \t nan \n\n280 \t Balaji Resort \n\n281 \t Sakthi Grand \n\n282 \t Apollo Serviced Apartments \n\n283 \t Ekaana Cottages \n\n284 \t Nakshatra Serviced Apartment - Teynampet \n\n285 \t Nakshatra Serviced Apartment - Siruseri \n\n286 \t Sea Shore Inn \n\n287 \t Aryaas \n\n288 \t Starcity Residence \n\n289 \t Dream Inn-Omr \n\n290 \t Orange Inn Service Apartment (Manapakkam) \n\n291 \t Deshna Home Stay -Arumbakkam \n\n292 \t Stay Easy Serviced Apartments Sholinganalur \n\n293 \t Azeez Avenue \n\n294 \t Accord Metropolitan \n\n295 \t Harrisons Chennai \n\n296 \t The Park Chennai \n\n297 \t The Raintree \n\n298 \t Lemon Tree Chennai \n\n299 \t Park Hyatt \n\n300 \t The Residency Towers \n\n301 \t FabHotel Blossoms T Nagar \n\n302 \t Peace Inn \n\n303 \t Radisson Blu GRT Chennai \n\n304 \t FabHotel Priyadarshini Park Mount Road \n\n305 \t Holiday Inn Express Chennai Mahindra World City \n\n306 \t The Raintree, St. Mary's Road \n\n307 \t Taj Club House \n\n308 \t The Residency Chennai \n\n309 \t ITC Grand Chola \n\n310 \t nan \n\n311 \t ITC Grand Chola \n\n312 \t Hilton Chennai \n\n313 \t Treebo Grand Marena \n\n314 \t Savera \n\n315 \t Raj Park Chennai \n\n316 \t E Hotel \n\n317 \t nan \n\n318 \t E Hotel \n\n319 \t New Woodlands \n\n320 \t Radisson Chennai City Centre, India \n\n321 \t Hyatt Regency Chennai \n\n322 \t Accord Metropolitan \n\n323 \t Harrisons Chennai \n\n324 \t The Park Chennai \n\n325 \t The Raintree \n\n326 \t Lemon Tree Chennai \n\n327 \t Park Hyatt \n\n328 \t The Residency Towers \n\n329 \t FabHotel Blossoms T Nagar \n\n330 \t Peace Inn \n\n331 \t Radisson Blu GRT Chennai \n\n332 \t FabHotel Priyadarshini Park Mount Road \n\n333 \t Holiday Inn Express Chennai Mahindra World City \n\n334 \t The Raintree, St. Mary's Road \n\n335 \t Taj Club House \n\n336 \t The Residency Chennai \n\n337 \t ITC Grand Chola \n\n338 \t nan \n\n339 \t ITC Grand Chola \n\n340 \t Hilton Chennai \n\n341 \t Treebo Grand Marena \n\n342 \t Savera \n\n343 \t Raj Park Chennai \n\n344 \t E Hotel \n\n345 \t nan \n\n346 \t E Hotel \n\n347 \t New Woodlands \n\n348 \t Radisson Chennai City Centre, India \n\n349 \t Hyatt Regency Chennai \n\n350 \t Accord Metropolitan \n\n351 \t Harrisons Chennai \n\n352 \t The Park Chennai \n\n353 \t The Raintree \n\n354 \t Lemon Tree Chennai \n\n355 \t Park Hyatt \n\n356 \t The Residency Towers \n\n357 \t FabHotel Blossoms T Nagar \n\n358 \t Peace Inn \n\n359 \t Radisson Blu GRT Chennai \n\n360 \t FabHotel Priyadarshini Park Mount Road \n\n361 \t Holiday Inn Express Chennai Mahindra World City \n\n362 \t The Raintree, St. Mary's Road \n\n363 \t Taj Club House \n\n364 \t The Residency Chennai \n\n365 \t ITC Grand Chola \n\n366 \t nan \n\n367 \t ITC Grand Chola \n\n368 \t Hilton Chennai \n\n369 \t Treebo Grand Marena \n\n370 \t Savera \n\n371 \t Raj Park Chennai \n\n372 \t E Hotel \n\n373 \t nan \n\n374 \t E Hotel \n\n375 \t New Woodlands \n\n376 \t Radisson Chennai City Centre, India \n\n"
     ]
    }
   ],
   "source": [
    "i=0\n",
    "for x in hotels:\n",
    "     print(i ,\"\\t\", x, \"\\n\")\n",
    "     i += 1"
   ]
  },
  {
   "cell_type": "code",
   "execution_count": 17,
   "id": "provincial-somerset",
   "metadata": {},
   "outputs": [],
   "source": [
    "#m=df[\"Review_Text\"].isin([\"good\"])\n",
    "#df[m]\n",
    "#df = df['Review_Text'].values\n",
    "#df = df.reshape(-1,1)\n",
    "#print(df.shape)\n",
    "#df[:4724]\n",
    "#a= np.array(df)\n",
    "\n",
    "#print(a)"
   ]
  },
  {
   "cell_type": "code",
   "execution_count": 18,
   "id": "changed-underwear",
   "metadata": {
    "scrolled": true
   },
   "outputs": [],
   "source": [
    "m=df[\"Review_Text\"]\n"
   ]
  },
  {
   "cell_type": "code",
   "execution_count": 19,
   "id": "infinite-republican",
   "metadata": {
    "tags": [
     "outputPrepend"
    ]
   },
   "outputs": [
    {
     "output_type": "stream",
     "name": "stdout",
     "text": [
      "tch object; span=(82, 86), match='good'>\n1\nThe Raintree\n<re.Match object; span=(13, 17), match='Good'>\n1\nThe Raintree\n<re.Match object; span=(28, 32), match='good'>\n2\nThe Raintree\n<re.Match object; span=(93, 97), match='good'>\n3\nThe Raintree\n<re.Match object; span=(64, 68), match='Good'>\n1\nThe Raintree\n<re.Match object; span=(0, 9), match='Excellent'>\n1\nThe Raintree\n<re.Match object; span=(5, 12), match='helpful'>\n1\nThe Raintree\n<re.Match object; span=(114, 118), match='good'>\n1\nThe Raintree\n<re.Match object; span=(152, 156), match='good'>\n2\nThe Raintree\n<re.Match object; span=(37, 41), match='good'>\n1\nThe Raintree\n<re.Match object; span=(207, 216), match='excellent'>\n1\nThe Raintree\n<re.Match object; span=(0, 9), match='Excellent'>\n1\nThe Raintree\n<re.Match object; span=(44, 51), match='helpful'>\n1\nThe Raintree\n<re.Match object; span=(22, 26), match='good'>\n1\nThe Raintree\n<re.Match object; span=(5, 9), match='good'>\n1\nThe Raintree\n<re.Match object; span=(56, 60), match='good'>\n2\nThe Raintree\n<re.Match object; span=(0, 4), match='Good'>\n1\nLemon Tree Chennai\n<re.Match object; span=(47, 51), match='good'>\n1\nLemon Tree Chennai\n<re.Match object; span=(0, 4), match='Good'>\n1\nLemon Tree Chennai\n<re.Match object; span=(178, 182), match='good'>\n2\nLemon Tree Chennai\n<re.Match object; span=(67, 74), match='Helpful'>\n1\nLemon Tree Chennai\n<re.Match object; span=(94, 98), match='good'>\n1\nLemon Tree Chennai\n<re.Match object; span=(0, 9), match='Excellent'>\n1\nLemon Tree Chennai\n<re.Match object; span=(9, 13), match='good'>\n1\nLemon Tree Chennai\n<re.Match object; span=(202, 206), match='good'>\n1\nLemon Tree Chennai\n<re.Match object; span=(37, 44), match='helpful'>\n1\nLemon Tree Chennai\n<re.Match object; span=(0, 4), match='Good'>\n1\nLemon Tree Chennai\n<re.Match object; span=(27, 31), match='Good'>\n2\nLemon Tree Chennai\n<re.Match object; span=(47, 51), match='good'>\n3\nLemon Tree Chennai\n<re.Match object; span=(98, 102), match='good'>\n4\nLemon Tree Chennai\n<re.Match object; span=(195, 199), match='good'>\n5\nLemon Tree Chennai\n<re.Match object; span=(74, 78), match='good'>\n1\nLemon Tree Chennai\n<re.Match object; span=(27, 31), match='good'>\n1\nLemon Tree Chennai\n<re.Match object; span=(126, 130), match='good'>\n2\nLemon Tree Chennai\n<re.Match object; span=(202, 206), match='good'>\n3\nLemon Tree Chennai\n<re.Match object; span=(113, 117), match='good'>\n1\nLemon Tree Chennai\n<re.Match object; span=(135, 139), match='good'>\n1\nLemon Tree Chennai\n<re.Match object; span=(75, 79), match='good'>\n1\nLemon Tree Chennai\n<re.Match object; span=(32, 41), match='excellent'>\n1\nLemon Tree Chennai\n<re.Match object; span=(147, 151), match='good'>\n1\nLemon Tree Chennai\n<re.Match object; span=(16, 20), match='good'>\n1\nPark Hyatt\n<re.Match object; span=(115, 119), match='good'>\n2\nPark Hyatt\n<re.Match object; span=(188, 192), match='good'>\n3\nPark Hyatt\n<re.Match object; span=(208, 212), match='good'>\n1\nPark Hyatt\n<re.Match object; span=(21, 28), match='helpful'>\n1\nPark Hyatt\n<re.Match object; span=(209, 213), match='good'>\n1\nPark Hyatt\n<re.Match object; span=(4, 8), match='good'>\n1\nPark Hyatt\n<re.Match object; span=(75, 79), match='good'>\n2\nPark Hyatt\n<re.Match object; span=(54, 61), match='helpful'>\n1\nPark Hyatt\n<re.Match object; span=(152, 156), match='good'>\n1\nPark Hyatt\n<re.Match object; span=(239, 243), match='good'>\n2\nPark Hyatt\n<re.Match object; span=(280, 284), match='good'>\n3\nPark Hyatt\n<re.Match object; span=(24, 33), match='Excellent'>\n1\nPark Hyatt\n<re.Match object; span=(38, 42), match='good'>\n1\nPark Hyatt\n<re.Match object; span=(5, 9), match='good'>\n1\nPark Hyatt\n<re.Match object; span=(15, 19), match='good'>\n1\nPark Hyatt\n<re.Match object; span=(103, 107), match='good'>\n2\nPark Hyatt\n<re.Match object; span=(48, 57), match='excellent'>\n1\nPark Hyatt\n<re.Match object; span=(62, 66), match='good'>\n1\nPark Hyatt\n<re.Match object; span=(11, 15), match='good'>\n1\nPark Hyatt\n<re.Match object; span=(67, 71), match='good'>\n2\nPark Hyatt\n<re.Match object; span=(123, 127), match='good'>\n3\nPark Hyatt\n<re.Match object; span=(235, 239), match='good'>\n1\nPark Hyatt\n<re.Match object; span=(16, 20), match='good'>\n1\nPark Hyatt\n<re.Match object; span=(345, 349), match='good'>\n1\nPark Hyatt\n<re.Match object; span=(316, 323), match='helpful'>\n1\nPark Hyatt\n<re.Match object; span=(147, 151), match='Good'>\n1\nPark Hyatt\n<re.Match object; span=(0, 9), match='Excellent'>\n1\nPark Hyatt\n<re.Match object; span=(0, 9), match='Excellent'>\n1\nPark Hyatt\n<re.Match object; span=(115, 124), match='excellent'>\n2\nPark Hyatt\n<re.Match object; span=(31, 35), match='good'>\n1\nThe Residency Towers\n<re.Match object; span=(60, 64), match='good'>\n2\nThe Residency Towers\n<re.Match object; span=(17, 21), match='Good'>\n1\nThe Residency Towers\n<re.Match object; span=(68, 77), match='excellent'>\n1\nThe Residency Towers\n<re.Match object; span=(0, 4), match='good'>\n1\nThe Residency Towers\n<re.Match object; span=(178, 182), match='good'>\n1\nThe Residency Towers\n<re.Match object; span=(192, 196), match='good'>\n1\nThe Residency Towers\n<re.Match object; span=(46, 55), match='Excellent'>\n1\nThe Residency Towers\n<re.Match object; span=(151, 160), match='excellent'>\n2\nThe Residency Towers\n<re.Match object; span=(9, 13), match='good'>\n1\nThe Residency Towers\n<re.Match object; span=(175, 179), match='good'>\n2\nThe Residency Towers\n<re.Match object; span=(78, 87), match='excellent'>\n1\nThe Residency Towers\n<re.Match object; span=(108, 112), match='good'>\n1\nThe Residency Towers\n<re.Match object; span=(78, 85), match='helpful'>\n1\nThe Residency Towers\n<re.Match object; span=(117, 126), match='excellent'>\n1\nThe Residency Towers\n<re.Match object; span=(0, 4), match='Good'>\n1\nThe Residency Towers\n<re.Match object; span=(69, 76), match='helpful'>\n1\nThe Residency Towers\n<re.Match object; span=(68, 72), match='good'>\n1\nThe Residency Towers\n<re.Match object; span=(147, 151), match='good'>\n2\nThe Residency Towers\n<re.Match object; span=(123, 132), match='excellent'>\n1\nThe Residency Towers\n<re.Match object; span=(50, 54), match='good'>\n1\nThe Residency Towers\n<re.Match object; span=(120, 124), match='good'>\n2\nThe Residency Towers\n<re.Match object; span=(179, 183), match='good'>\n3\nThe Residency Towers\n<re.Match object; span=(21, 25), match='good'>\n1\nThe Residency Towers\n<re.Match object; span=(106, 110), match='good'>\n2\nThe Residency Towers\n<re.Match object; span=(44, 53), match='excellent'>\n1\nThe Residency Towers\n<re.Match object; span=(86, 90), match='good'>\n1\nThe Residency Towers\n<re.Match object; span=(62, 66), match='good'>\n1\nThe Residency Towers\n<re.Match object; span=(15, 22), match='helpful'>\n1\nThe Residency Towers\n<re.Match object; span=(0, 9), match='Excellent'>\n1\nThe Residency Towers\n<re.Match object; span=(98, 102), match='good'>\n1\nFabHotel Blossoms T Nagar\n<re.Match object; span=(229, 233), match='good'>\n2\nFabHotel Blossoms T Nagar\n<re.Match object; span=(280, 287), match='helpful'>\n1\nFabHotel Blossoms T Nagar\n<re.Match object; span=(162, 166), match='good'>\n1\nFabHotel Blossoms T Nagar\n<re.Match object; span=(7, 11), match='good'>\n1\nFabHotel Blossoms T Nagar\n<re.Match object; span=(45, 49), match='good'>\n2\nFabHotel Blossoms T Nagar\n<re.Match object; span=(147, 151), match='good'>\n3\nFabHotel Blossoms T Nagar\n<re.Match object; span=(207, 211), match='good'>\n4\nFabHotel Blossoms T Nagar\n<re.Match object; span=(0, 4), match='Good'>\n1\nFabHotel Blossoms T Nagar\n<re.Match object; span=(192, 196), match='good'>\n2\nFabHotel Blossoms T Nagar\n<re.Match object; span=(363, 367), match='good'>\n3\nFabHotel Blossoms T Nagar\n<re.Match object; span=(89, 93), match='good'>\n1\nFabHotel Blossoms T Nagar\n<re.Match object; span=(301, 305), match='good'>\n2\nFabHotel Blossoms T Nagar\n<re.Match object; span=(259, 263), match='good'>\n1\nFabHotel Blossoms T Nagar\n<re.Match object; span=(57, 61), match='good'>\n1\nFabHotel Blossoms T Nagar\n<re.Match object; span=(87, 96), match='excellent'>\n1\nFabHotel Blossoms T Nagar\n<re.Match object; span=(17, 21), match='good'>\n1\nFabHotel Blossoms T Nagar\n<re.Match object; span=(13, 17), match='good'>\n1\nPeace Inn\n<re.Match object; span=(76, 80), match='Good'>\n1\nPeace Inn\n<re.Match object; span=(197, 201), match='good'>\n2\nPeace Inn\n<re.Match object; span=(162, 171), match='Excellent'>\n1\nPeace Inn\n<re.Match object; span=(8, 12), match='good'>\n1\nPeace Inn\n<re.Match object; span=(46, 50), match='good'>\n2\nPeace Inn\n<re.Match object; span=(212, 216), match='good'>\n3\nPeace Inn\n<re.Match object; span=(0, 4), match='Good'>\n1\nPeace Inn\n<re.Match object; span=(24, 28), match='good'>\n1\nPeace Inn\n<re.Match object; span=(95, 99), match='Good'>\n2\nPeace Inn\n<re.Match object; span=(111, 115), match='good'>\n3\nPeace Inn\n<re.Match object; span=(138, 142), match='good'>\n4\nPeace Inn\n<re.Match object; span=(7, 11), match='good'>\n1\nPeace Inn\n<re.Match object; span=(83, 87), match='good'>\n2\nPeace Inn\n<re.Match object; span=(26, 30), match='good'>\n1\nPeace Inn\n<re.Match object; span=(80, 84), match='good'>\n2\nPeace Inn\n<re.Match object; span=(121, 125), match='good'>\n3\nPeace Inn\n<re.Match object; span=(151, 155), match='good'>\n4\nPeace Inn\n<re.Match object; span=(73, 77), match='good'>\n1\nPeace Inn\n<re.Match object; span=(167, 171), match='good'>\n2\nPeace Inn\n<re.Match object; span=(186, 190), match='good'>\n1\nPeace Inn\n<re.Match object; span=(144, 151), match='helpful'>\n1\nPeace Inn\n<re.Match object; span=(200, 209), match='excellent'>\n1\nPeace Inn\n<re.Match object; span=(202, 206), match='good'>\n1\nPeace Inn\n<re.Match object; span=(217, 221), match='good'>\n2\nPeace Inn\n<re.Match object; span=(288, 292), match='good'>\n3\nPeace Inn\n<re.Match object; span=(86, 90), match='good'>\n1\nPeace Inn\n<re.Match object; span=(356, 360), match='good'>\n2\nPeace Inn\n<re.Match object; span=(119, 123), match='good'>\n1\nPeace Inn\n<re.Match object; span=(157, 161), match='good'>\n2\nPeace Inn\n<re.Match object; span=(192, 196), match='good'>\n3\nPeace Inn\n<re.Match object; span=(233, 237), match='good'>\n1\nPeace Inn\n<re.Match object; span=(41, 45), match='good'>\n1\nPeace Inn\n<re.Match object; span=(21, 25), match='good'>\n1\nRadisson Blu GRT Chennai\n<re.Match object; span=(38, 42), match='good'>\n2\nRadisson Blu GRT Chennai\n<re.Match object; span=(43, 50), match='helpful'>\n1\nRadisson Blu GRT Chennai\n<re.Match object; span=(22, 26), match='Good'>\n1\nRadisson Blu GRT Chennai\n<re.Match object; span=(0, 9), match='Excellent'>\n1\nRadisson Blu GRT Chennai\n<re.Match object; span=(0, 9), match='Excellent'>\n1\nRadisson Blu GRT Chennai\n<re.Match object; span=(82, 86), match='good'>\n1\nRadisson Blu GRT Chennai\n<re.Match object; span=(10, 14), match='good'>\n1\nRadisson Blu GRT Chennai\n<re.Match object; span=(51, 58), match='helpful'>\n1\nRadisson Blu GRT Chennai\n<re.Match object; span=(113, 120), match='helpful'>\n1\nRadisson Blu GRT Chennai\n<re.Match object; span=(70, 74), match='good'>\n1\nRadisson Blu GRT Chennai\n<re.Match object; span=(29, 33), match='good'>\n1\nRadisson Blu GRT Chennai\n<re.Match object; span=(0, 9), match='Excellent'>\n1\nRadisson Blu GRT Chennai\n<re.Match object; span=(0, 9), match='Excellent'>\n1\nRadisson Blu GRT Chennai\n<re.Match object; span=(197, 206), match='excellent'>\n2\nRadisson Blu GRT Chennai\n<re.Match object; span=(100, 104), match='good'>\n1\nRadisson Blu GRT Chennai\n<re.Match object; span=(136, 145), match='excellent'>\n1\nRadisson Blu GRT Chennai\n<re.Match object; span=(190, 199), match='excellent'>\n2\nRadisson Blu GRT Chennai\n<re.Match object; span=(346, 355), match='excellent'>\n3\nRadisson Blu GRT Chennai\n<re.Match object; span=(0, 4), match='Good'>\n1\nRadisson Blu GRT Chennai\n<re.Match object; span=(134, 138), match='good'>\n2\nRadisson Blu GRT Chennai\n<re.Match object; span=(9, 13), match='good'>\n1\nRadisson Blu GRT Chennai\n<re.Match object; span=(128, 132), match='good'>\n2\nRadisson Blu GRT Chennai\n<re.Match object; span=(101, 105), match='good'>\n1\nRadisson Blu GRT Chennai\n<re.Match object; span=(171, 175), match='good'>\n2\nRadisson Blu GRT Chennai\n<re.Match object; span=(30, 39), match='excellent'>\n1\nRadisson Blu GRT Chennai\n<re.Match object; span=(30, 34), match='good'>\n1\nRadisson Blu GRT Chennai\n<re.Match object; span=(68, 72), match='good'>\n2\nRadisson Blu GRT Chennai\n<re.Match object; span=(12, 16), match='good'>\n1\nRadisson Blu GRT Chennai\n<re.Match object; span=(60, 64), match='good'>\n2\nRadisson Blu GRT Chennai\n<re.Match object; span=(79, 83), match='good'>\n1\nRadisson Blu GRT Chennai\n<re.Match object; span=(0, 4), match='Good'>\n1\nRadisson Blu GRT Chennai\n<re.Match object; span=(19, 28), match='excellent'>\n1\nRadisson Blu GRT Chennai\n<re.Match object; span=(20, 27), match='helpful'>\n1\nRadisson Blu GRT Chennai\n<re.Match object; span=(75, 79), match='good'>\n1\nRadisson Blu GRT Chennai\n<re.Match object; span=(21, 25), match='good'>\n1\nFabHotel Priyadarshini Park Mount Road\n<re.Match object; span=(8, 12), match='good'>\n1\nFabHotel Priyadarshini Park Mount Road\n<re.Match object; span=(69, 73), match='good'>\n2\nFabHotel Priyadarshini Park Mount Road\n<re.Match object; span=(0, 4), match='Good'>\n1\nFabHotel Priyadarshini Park Mount Road\n<re.Match object; span=(23, 27), match='good'>\n2\nFabHotel Priyadarshini Park Mount Road\n<re.Match object; span=(193, 197), match='good'>\n1\nFabHotel Priyadarshini Park Mount Road\n<re.Match object; span=(140, 144), match='good'>\n1\nFabHotel Priyadarshini Park Mount Road\n<re.Match object; span=(194, 198), match='good'>\n1\nFabHotel Priyadarshini Park Mount Road\n<re.Match object; span=(236, 240), match='good'>\n1\nFabHotel Priyadarshini Park Mount Road\n<re.Match object; span=(267, 271), match='good'>\n2\nFabHotel Priyadarshini Park Mount Road\n<re.Match object; span=(57, 66), match='excellent'>\n1\nFabHotel Priyadarshini Park Mount Road\n<re.Match object; span=(28, 32), match='good'>\n1\nFabHotel Priyadarshini Park Mount Road\n<re.Match object; span=(257, 261), match='Good'>\n2\nFabHotel Priyadarshini Park Mount Road\n<re.Match object; span=(68, 72), match='good'>\n1\nFabHotel Priyadarshini Park Mount Road\n<re.Match object; span=(175, 179), match='good'>\n2\nFabHotel Priyadarshini Park Mount Road\n<re.Match object; span=(28, 32), match='good'>\n1\nFabHotel Priyadarshini Park Mount Road\n<re.Match object; span=(171, 175), match='good'>\n1\nFabHotel Priyadarshini Park Mount Road\n<re.Match object; span=(4, 8), match='good'>\n1\nFabHotel Priyadarshini Park Mount Road\n<re.Match object; span=(41, 45), match='good'>\n2\nFabHotel Priyadarshini Park Mount Road\n<re.Match object; span=(69, 73), match='good'>\n1\nFabHotel Priyadarshini Park Mount Road\n<re.Match object; span=(105, 109), match='good'>\n2\nFabHotel Priyadarshini Park Mount Road\n<re.Match object; span=(185, 189), match='good'>\n3\nFabHotel Priyadarshini Park Mount Road\n<re.Match object; span=(285, 289), match='good'>\n4\nFabHotel Priyadarshini Park Mount Road\n<re.Match object; span=(15, 19), match='good'>\n1\nHoliday Inn Express Chennai Mahindra World City\n<re.Match object; span=(146, 150), match='good'>\n2\nHoliday Inn Express Chennai Mahindra World City\n<re.Match object; span=(15, 24), match='excellent'>\n1\nHoliday Inn Express Chennai Mahindra World City\n<re.Match object; span=(66, 73), match='helpful'>\n1\nThe Raintree, St. Mary's Road\n<re.Match object; span=(0, 4), match='Good'>\n1\nThe Raintree, St. Mary's Road\n<re.Match object; span=(186, 190), match='good'>\n1\nThe Raintree, St. Mary's Road\n<re.Match object; span=(25, 29), match='good'>\n1\nThe Raintree, St. Mary's Road\n<re.Match object; span=(13, 17), match='good'>\n1\nThe Raintree, St. Mary's Road\n<re.Match object; span=(14, 18), match='good'>\n1\nThe Raintree, St. Mary's Road\n<re.Match object; span=(14, 18), match='good'>\n1\nThe Raintree, St. Mary's Road\n<re.Match object; span=(58, 65), match='helpful'>\n1\nThe Raintree, St. Mary's Road\n<re.Match object; span=(34, 38), match='Good'>\n1\nTaj Club House\n<re.Match object; span=(46, 53), match='Helpful'>\n1\nTaj Club House\n<re.Match object; span=(0, 9), match='Excellent'>\n1\nTaj Club House\n<re.Match object; span=(230, 234), match='Good'>\n1\nTaj Club House\n<re.Match object; span=(31, 38), match='helpful'>\n1\nTaj Club House\n<re.Match object; span=(127, 136), match='excellent'>\n1\nTaj Club House\n<re.Match object; span=(0, 9), match='Excellent'>\n1\nTaj Club House\n<re.Match object; span=(44, 53), match='excellent'>\n1\nTaj Club House\n<re.Match object; span=(0, 4), match='Good'>\n1\nTaj Club House\n<re.Match object; span=(139, 143), match='good'>\n2\nTaj Club House\n<re.Match object; span=(11, 15), match='good'>\n1\nThe Residency Chennai\n<re.Match object; span=(10, 14), match='good'>\n1\nThe Residency Chennai\n<re.Match object; span=(37, 41), match='good'>\n2\nThe Residency Chennai\n<re.Match object; span=(36, 40), match='good'>\n1\nThe Residency Chennai\n<re.Match object; span=(27, 31), match='good'>\n1\nThe Residency Chennai\n<re.Match object; span=(17, 21), match='good'>\n1\nThe Residency Chennai\n<re.Match object; span=(20, 24), match='good'>\n1\nThe Residency Chennai\n<re.Match object; span=(11, 15), match='good'>\n1\nThe Residency Chennai\n<re.Match object; span=(106, 113), match='helpful'>\n1\nThe Residency Chennai\n<re.Match object; span=(29, 38), match='excellent'>\n1\nThe Residency Chennai\n<re.Match object; span=(30, 34), match='good'>\n1\nThe Residency Chennai\n<re.Match object; span=(91, 95), match='Good'>\n2\nThe Residency Chennai\n<re.Match object; span=(285, 289), match='good'>\n3\nThe Residency Chennai\n<re.Match object; span=(0, 9), match='Excellent'>\n1\nThe Residency Chennai\n<re.Match object; span=(79, 83), match='good'>\n1\nThe Residency Chennai\n<re.Match object; span=(110, 114), match='good'>\n1\nThe Residency Chennai\n<re.Match object; span=(9, 13), match='good'>\n1\nThe Residency Chennai\n<re.Match object; span=(19, 23), match='good'>\n2\nThe Residency Chennai\n<re.Match object; span=(71, 75), match='good'>\n3\nThe Residency Chennai\n<re.Match object; span=(93, 97), match='good'>\n4\nThe Residency Chennai\n<re.Match object; span=(173, 177), match='good'>\n5\nThe Residency Chennai\n<re.Match object; span=(223, 227), match='good'>\n6\nThe Residency Chennai\n<re.Match object; span=(249, 253), match='good'>\n7\nThe Residency Chennai\n<re.Match object; span=(142, 151), match='excellent'>\n1\nThe Residency Chennai\n<re.Match object; span=(11, 15), match='good'>\n1\nThe Residency Chennai\n<re.Match object; span=(59, 63), match='good'>\n2\nThe Residency Chennai\n<re.Match object; span=(128, 132), match='good'>\n3\nThe Residency Chennai\n<re.Match object; span=(213, 217), match='good'>\n4\nThe Residency Chennai\n<re.Match object; span=(31, 35), match='good'>\n1\nThe Residency Chennai\n<re.Match object; span=(240, 244), match='good'>\n2\nThe Residency Chennai\n<re.Match object; span=(298, 302), match='Good'>\n3\nThe Residency Chennai\n<re.Match object; span=(163, 170), match='helpful'>\n1\nThe Residency Chennai\n<re.Match object; span=(5, 14), match='excellent'>\n1\nThe Residency Chennai\n<re.Match object; span=(195, 199), match='good'>\n1\nThe Residency Chennai\n<re.Match object; span=(116, 125), match='excellent'>\n1\nThe Residency Chennai\n<re.Match object; span=(93, 100), match='helpful'>\n1\nITC Grand Chola\n<re.Match object; span=(186, 195), match='excellent'>\n1\nITC Grand Chola\n<re.Match object; span=(0, 9), match='Excellent'>\n1\nITC Grand Chola\n<re.Match object; span=(314, 318), match='good'>\n1\nITC Grand Chola\n<re.Match object; span=(234, 241), match='helpful'>\n1\nITC Grand Chola\n<re.Match object; span=(366, 370), match='good'>\n1\nITC Grand Chola\n<re.Match object; span=(380, 389), match='excellent'>\n1\nITC Grand Chola\n<re.Match object; span=(135, 139), match='good'>\n1\nITC Grand Chola\n<re.Match object; span=(121, 128), match='helpful'>\n1\nITC Grand Chola\n<re.Match object; span=(0, 9), match='Excellent'>\n1\nITC Grand Chola\n<re.Match object; span=(64, 73), match='excellent'>\n2\nITC Grand Chola\n<re.Match object; span=(46, 53), match='helpful'>\n1\nITC Grand Chola\n<re.Match object; span=(127, 134), match='helpful'>\n2\nITC Grand Chola\n<re.Match object; span=(83, 92), match='excellent'>\n1\nITC Grand Chola\n<re.Match object; span=(179, 188), match='Excellent'>\n2\nITC Grand Chola\n<re.Match object; span=(244, 253), match='excellent'>\n3\nITC Grand Chola\n<re.Match object; span=(71, 78), match='helpful'>\n1\nITC Grand Chola\n"
     ]
    },
    {
     "output_type": "error",
     "ename": "TypeError",
     "evalue": "expected string or bytes-like object",
     "traceback": [
      "\u001b[0;31m---------------------------------------------------------------------------\u001b[0m",
      "\u001b[0;31mTypeError\u001b[0m                                 Traceback (most recent call last)",
      "\u001b[0;32m<ipython-input-19-8c377f75ab0d>\u001b[0m in \u001b[0;36m<module>\u001b[0;34m\u001b[0m\n\u001b[1;32m     16\u001b[0m     \u001b[0msearch_excellent_counter\u001b[0m \u001b[0;34m=\u001b[0m \u001b[0;36m0\u001b[0m\u001b[0;34m\u001b[0m\u001b[0;34m\u001b[0m\u001b[0m\n\u001b[1;32m     17\u001b[0m \u001b[0;34m\u001b[0m\u001b[0m\n\u001b[0;32m---> 18\u001b[0;31m     \u001b[0;32mfor\u001b[0m \u001b[0mmatch\u001b[0m \u001b[0;32min\u001b[0m \u001b[0mre\u001b[0m\u001b[0;34m.\u001b[0m\u001b[0mfinditer\u001b[0m\u001b[0;34m(\u001b[0m\u001b[0msearch_great\u001b[0m\u001b[0;34m,\u001b[0m\u001b[0mtext\u001b[0m\u001b[0;34m)\u001b[0m\u001b[0;34m:\u001b[0m\u001b[0;34m\u001b[0m\u001b[0;34m\u001b[0m\u001b[0m\n\u001b[0m\u001b[1;32m     19\u001b[0m         \u001b[0msearch_great_counter\u001b[0m \u001b[0;34m+=\u001b[0m \u001b[0;36m1\u001b[0m\u001b[0;34m\u001b[0m\u001b[0;34m\u001b[0m\u001b[0m\n\u001b[1;32m     20\u001b[0m         \u001b[0mprint\u001b[0m\u001b[0;34m(\u001b[0m\u001b[0mmatch\u001b[0m\u001b[0;34m)\u001b[0m\u001b[0;34m\u001b[0m\u001b[0;34m\u001b[0m\u001b[0m\n",
      "\u001b[0;32m/usr/lib/python3.8/re.py\u001b[0m in \u001b[0;36mfinditer\u001b[0;34m(pattern, string, flags)\u001b[0m\n\u001b[1;32m    246\u001b[0m \u001b[0;34m\u001b[0m\u001b[0m\n\u001b[1;32m    247\u001b[0m     Empty matches are included in the result.\"\"\"\n\u001b[0;32m--> 248\u001b[0;31m     \u001b[0;32mreturn\u001b[0m \u001b[0m_compile\u001b[0m\u001b[0;34m(\u001b[0m\u001b[0mpattern\u001b[0m\u001b[0;34m,\u001b[0m \u001b[0mflags\u001b[0m\u001b[0;34m)\u001b[0m\u001b[0;34m.\u001b[0m\u001b[0mfinditer\u001b[0m\u001b[0;34m(\u001b[0m\u001b[0mstring\u001b[0m\u001b[0;34m)\u001b[0m\u001b[0;34m\u001b[0m\u001b[0;34m\u001b[0m\u001b[0m\n\u001b[0m\u001b[1;32m    249\u001b[0m \u001b[0;34m\u001b[0m\u001b[0m\n\u001b[1;32m    250\u001b[0m \u001b[0;32mdef\u001b[0m \u001b[0mcompile\u001b[0m\u001b[0;34m(\u001b[0m\u001b[0mpattern\u001b[0m\u001b[0;34m,\u001b[0m \u001b[0mflags\u001b[0m\u001b[0;34m=\u001b[0m\u001b[0;36m0\u001b[0m\u001b[0;34m)\u001b[0m\u001b[0;34m:\u001b[0m\u001b[0;34m\u001b[0m\u001b[0;34m\u001b[0m\u001b[0m\n",
      "\u001b[0;31mTypeError\u001b[0m: expected string or bytes-like object"
     ]
    }
   ],
   "source": [
    "import re\n",
    "i = 0\n",
    "toplam = 0\n",
    "\n",
    "liste2 = df[\"Hotel_name\"]\n",
    "liste3 = []\n",
    "for x in m :\n",
    "    text = x\n",
    "    search_great = \"(Good?)|(good?)\"\n",
    "    search_great_counter = 0\n",
    "\n",
    "    search_helpful = \"(Helpful?)|(helpful?)\"\n",
    "    search_helpful_counter = 0\n",
    "    \n",
    "    search_excellent = \"(Excellent?)|(excellent?)\"\n",
    "    search_excellent_counter = 0\n",
    "   \n",
    "    for match in re.finditer(search_great,text):\n",
    "        search_great_counter += 1\n",
    "        print(match)\n",
    "        print(search_great_counter)\n",
    "        print(liste2[i]) \n",
    "        liste3.append(liste2[i]) \n",
    "        toplam = toplam + 1\n",
    "        \n",
    "    for match in re.finditer(search_helpful,text):\n",
    "        search_helpful_counter += 1\n",
    "        print(match)\n",
    "        print(search_helpful_counter)  \n",
    "        print(liste2[i]) \n",
    "        liste3.append(liste2[i]) \n",
    "        toplam = toplam + 1\n",
    "    \n",
    "    for match in re.finditer(search_excellent,text):\n",
    "        search_excellent_counter += 1\n",
    "        print(match)\n",
    "        print(search_excellent_counter)\n",
    "        print(liste2[i]) \n",
    "        liste3.append(liste2[i]) \n",
    "        toplam = toplam + 1\n",
    "        \n",
    "    i = i+1   \n",
    "    \n",
    "\n"
   ]
  },
  {
   "cell_type": "code",
   "execution_count": 8,
   "id": "instructional-atlantic",
   "metadata": {
    "scrolled": true
   },
   "outputs": [
    {
     "output_type": "stream",
     "name": "stdout",
     "text": [
      "positive commit = \n344\n"
     ]
    }
   ],
   "source": [
    "print(\"positive commit = \")    \n",
    "print(toplam)"
   ]
  },
  {
   "cell_type": "code",
   "execution_count": 9,
   "id": "regulated-benjamin",
   "metadata": {},
   "outputs": [
    {
     "output_type": "stream",
     "name": "stdout",
     "text": [
      "0\nAccord Metropolitan\n1\nAccord Metropolitan\n2\nAccord Metropolitan\n3\nAccord Metropolitan\n4\nAccord Metropolitan\n5\nAccord Metropolitan\n6\nAccord Metropolitan\n7\nAccord Metropolitan\n8\nAccord Metropolitan\n9\nAccord Metropolitan\n10\nAccord Metropolitan\n11\nAccord Metropolitan\n12\nAccord Metropolitan\n13\nAccord Metropolitan\n14\nAccord Metropolitan\n15\nAccord Metropolitan\n16\nAccord Metropolitan\n17\nAccord Metropolitan\n18\nAccord Metropolitan\n19\nAccord Metropolitan\n20\nAccord Metropolitan\n21\nAccord Metropolitan\n22\nAccord Metropolitan\n23\nAccord Metropolitan\n24\nAccord Metropolitan\n25\nAccord Metropolitan\n26\nAccord Metropolitan\n27\nAccord Metropolitan\n28\nAccord Metropolitan\n29\nAccord Metropolitan\n30\nAccord Metropolitan\n31\nAccord Metropolitan\n32\nAccord Metropolitan\n33\nAccord Metropolitan\n34\nAccord Metropolitan\n35\nAccord Metropolitan\n36\nAccord Metropolitan\n37\nAccord Metropolitan\n38\nAccord Metropolitan\n39\nHarrisons Chennai\n40\nHarrisons Chennai\n41\nThe Park Chennai\n42\nThe Park Chennai\n43\nThe Park Chennai\n44\nThe Park Chennai\n45\nThe Park Chennai\n46\nThe Park Chennai\n47\nThe Park Chennai\n48\nThe Park Chennai\n49\nThe Park Chennai\n50\nThe Park Chennai\n51\nThe Park Chennai\n52\nThe Park Chennai\n53\nThe Park Chennai\n54\nThe Park Chennai\n55\nThe Park Chennai\n56\nThe Park Chennai\n57\nThe Park Chennai\n58\nThe Park Chennai\n59\nThe Raintree\n60\nThe Raintree\n61\nThe Raintree\n62\nThe Raintree\n63\nThe Raintree\n64\nThe Raintree\n65\nThe Raintree\n66\nThe Raintree\n67\nThe Raintree\n68\nThe Raintree\n69\nThe Raintree\n70\nThe Raintree\n71\nThe Raintree\n72\nThe Raintree\n73\nThe Raintree\n74\nThe Raintree\n75\nThe Raintree\n76\nThe Raintree\n77\nThe Raintree\n78\nThe Raintree\n79\nLemon Tree Chennai\n80\nLemon Tree Chennai\n81\nLemon Tree Chennai\n82\nLemon Tree Chennai\n83\nLemon Tree Chennai\n84\nLemon Tree Chennai\n85\nLemon Tree Chennai\n86\nLemon Tree Chennai\n87\nLemon Tree Chennai\n88\nLemon Tree Chennai\n89\nLemon Tree Chennai\n90\nLemon Tree Chennai\n91\nLemon Tree Chennai\n92\nLemon Tree Chennai\n93\nLemon Tree Chennai\n94\nLemon Tree Chennai\n95\nLemon Tree Chennai\n96\nLemon Tree Chennai\n97\nLemon Tree Chennai\n98\nLemon Tree Chennai\n99\nLemon Tree Chennai\n100\nLemon Tree Chennai\n101\nLemon Tree Chennai\n102\nLemon Tree Chennai\n103\nPark Hyatt\n104\nPark Hyatt\n105\nPark Hyatt\n106\nPark Hyatt\n107\nPark Hyatt\n108\nPark Hyatt\n109\nPark Hyatt\n110\nPark Hyatt\n111\nPark Hyatt\n112\nPark Hyatt\n113\nPark Hyatt\n114\nPark Hyatt\n115\nPark Hyatt\n116\nPark Hyatt\n117\nPark Hyatt\n118\nPark Hyatt\n119\nPark Hyatt\n120\nPark Hyatt\n121\nPark Hyatt\n122\nPark Hyatt\n123\nPark Hyatt\n124\nPark Hyatt\n125\nPark Hyatt\n126\nPark Hyatt\n127\nPark Hyatt\n128\nPark Hyatt\n129\nPark Hyatt\n130\nPark Hyatt\n131\nPark Hyatt\n132\nPark Hyatt\n133\nThe Residency Towers\n134\nThe Residency Towers\n135\nThe Residency Towers\n136\nThe Residency Towers\n137\nThe Residency Towers\n138\nThe Residency Towers\n139\nThe Residency Towers\n140\nThe Residency Towers\n141\nThe Residency Towers\n142\nThe Residency Towers\n143\nThe Residency Towers\n144\nThe Residency Towers\n145\nThe Residency Towers\n146\nThe Residency Towers\n147\nThe Residency Towers\n148\nThe Residency Towers\n149\nThe Residency Towers\n150\nThe Residency Towers\n151\nThe Residency Towers\n152\nThe Residency Towers\n153\nThe Residency Towers\n154\nThe Residency Towers\n155\nThe Residency Towers\n156\nThe Residency Towers\n157\nThe Residency Towers\n158\nThe Residency Towers\n159\nThe Residency Towers\n160\nThe Residency Towers\n161\nThe Residency Towers\n162\nThe Residency Towers\n163\nFabHotel Blossoms T Nagar\n164\nFabHotel Blossoms T Nagar\n165\nFabHotel Blossoms T Nagar\n166\nFabHotel Blossoms T Nagar\n167\nFabHotel Blossoms T Nagar\n168\nFabHotel Blossoms T Nagar\n169\nFabHotel Blossoms T Nagar\n170\nFabHotel Blossoms T Nagar\n171\nFabHotel Blossoms T Nagar\n172\nFabHotel Blossoms T Nagar\n173\nFabHotel Blossoms T Nagar\n174\nFabHotel Blossoms T Nagar\n175\nFabHotel Blossoms T Nagar\n176\nFabHotel Blossoms T Nagar\n177\nFabHotel Blossoms T Nagar\n178\nFabHotel Blossoms T Nagar\n179\nFabHotel Blossoms T Nagar\n180\nPeace Inn\n181\nPeace Inn\n182\nPeace Inn\n183\nPeace Inn\n184\nPeace Inn\n185\nPeace Inn\n186\nPeace Inn\n187\nPeace Inn\n188\nPeace Inn\n189\nPeace Inn\n190\nPeace Inn\n191\nPeace Inn\n192\nPeace Inn\n193\nPeace Inn\n194\nPeace Inn\n195\nPeace Inn\n196\nPeace Inn\n197\nPeace Inn\n198\nPeace Inn\n199\nPeace Inn\n200\nPeace Inn\n201\nPeace Inn\n202\nPeace Inn\n203\nPeace Inn\n204\nPeace Inn\n205\nPeace Inn\n206\nPeace Inn\n207\nPeace Inn\n208\nPeace Inn\n209\nPeace Inn\n210\nPeace Inn\n211\nPeace Inn\n212\nPeace Inn\n213\nRadisson Blu GRT Chennai\n214\nRadisson Blu GRT Chennai\n215\nRadisson Blu GRT Chennai\n216\nRadisson Blu GRT Chennai\n217\nRadisson Blu GRT Chennai\n218\nRadisson Blu GRT Chennai\n219\nRadisson Blu GRT Chennai\n220\nRadisson Blu GRT Chennai\n221\nRadisson Blu GRT Chennai\n222\nRadisson Blu GRT Chennai\n223\nRadisson Blu GRT Chennai\n224\nRadisson Blu GRT Chennai\n225\nRadisson Blu GRT Chennai\n226\nRadisson Blu GRT Chennai\n227\nRadisson Blu GRT Chennai\n228\nRadisson Blu GRT Chennai\n229\nRadisson Blu GRT Chennai\n230\nRadisson Blu GRT Chennai\n231\nRadisson Blu GRT Chennai\n232\nRadisson Blu GRT Chennai\n233\nRadisson Blu GRT Chennai\n234\nRadisson Blu GRT Chennai\n235\nRadisson Blu GRT Chennai\n236\nRadisson Blu GRT Chennai\n237\nRadisson Blu GRT Chennai\n238\nRadisson Blu GRT Chennai\n239\nRadisson Blu GRT Chennai\n240\nRadisson Blu GRT Chennai\n241\nRadisson Blu GRT Chennai\n242\nRadisson Blu GRT Chennai\n243\nRadisson Blu GRT Chennai\n244\nRadisson Blu GRT Chennai\n245\nRadisson Blu GRT Chennai\n246\nRadisson Blu GRT Chennai\n247\nRadisson Blu GRT Chennai\n248\nFabHotel Priyadarshini Park Mount Road\n249\nFabHotel Priyadarshini Park Mount Road\n250\nFabHotel Priyadarshini Park Mount Road\n251\nFabHotel Priyadarshini Park Mount Road\n252\nFabHotel Priyadarshini Park Mount Road\n253\nFabHotel Priyadarshini Park Mount Road\n254\nFabHotel Priyadarshini Park Mount Road\n255\nFabHotel Priyadarshini Park Mount Road\n256\nFabHotel Priyadarshini Park Mount Road\n257\nFabHotel Priyadarshini Park Mount Road\n258\nFabHotel Priyadarshini Park Mount Road\n259\nFabHotel Priyadarshini Park Mount Road\n260\nFabHotel Priyadarshini Park Mount Road\n261\nFabHotel Priyadarshini Park Mount Road\n262\nFabHotel Priyadarshini Park Mount Road\n263\nFabHotel Priyadarshini Park Mount Road\n264\nFabHotel Priyadarshini Park Mount Road\n265\nFabHotel Priyadarshini Park Mount Road\n266\nFabHotel Priyadarshini Park Mount Road\n267\nFabHotel Priyadarshini Park Mount Road\n268\nFabHotel Priyadarshini Park Mount Road\n269\nFabHotel Priyadarshini Park Mount Road\n270\nFabHotel Priyadarshini Park Mount Road\n271\nHoliday Inn Express Chennai Mahindra World City\n272\nHoliday Inn Express Chennai Mahindra World City\n273\nHoliday Inn Express Chennai Mahindra World City\n274\nThe Raintree, St. Mary's Road\n275\nThe Raintree, St. Mary's Road\n276\nThe Raintree, St. Mary's Road\n277\nThe Raintree, St. Mary's Road\n278\nThe Raintree, St. Mary's Road\n279\nThe Raintree, St. Mary's Road\n280\nThe Raintree, St. Mary's Road\n281\nThe Raintree, St. Mary's Road\n282\nTaj Club House\n283\nTaj Club House\n284\nTaj Club House\n285\nTaj Club House\n286\nTaj Club House\n287\nTaj Club House\n288\nTaj Club House\n289\nTaj Club House\n290\nTaj Club House\n291\nTaj Club House\n292\nThe Residency Chennai\n293\nThe Residency Chennai\n294\nThe Residency Chennai\n295\nThe Residency Chennai\n296\nThe Residency Chennai\n297\nThe Residency Chennai\n298\nThe Residency Chennai\n299\nThe Residency Chennai\n300\nThe Residency Chennai\n301\nThe Residency Chennai\n302\nThe Residency Chennai\n303\nThe Residency Chennai\n304\nThe Residency Chennai\n305\nThe Residency Chennai\n306\nThe Residency Chennai\n307\nThe Residency Chennai\n308\nThe Residency Chennai\n309\nThe Residency Chennai\n310\nThe Residency Chennai\n311\nThe Residency Chennai\n312\nThe Residency Chennai\n313\nThe Residency Chennai\n314\nThe Residency Chennai\n315\nThe Residency Chennai\n316\nThe Residency Chennai\n317\nThe Residency Chennai\n318\nThe Residency Chennai\n319\nThe Residency Chennai\n320\nThe Residency Chennai\n321\nThe Residency Chennai\n322\nThe Residency Chennai\n323\nThe Residency Chennai\n324\nThe Residency Chennai\n325\nThe Residency Chennai\n326\nThe Residency Chennai\n327\nITC Grand Chola\n328\nITC Grand Chola\n329\nITC Grand Chola\n330\nITC Grand Chola\n331\nITC Grand Chola\n332\nITC Grand Chola\n333\nITC Grand Chola\n334\nITC Grand Chola\n335\nITC Grand Chola\n336\nITC Grand Chola\n337\nITC Grand Chola\n338\nITC Grand Chola\n339\nITC Grand Chola\n340\nITC Grand Chola\n341\nITC Grand Chola\n342\nITC Grand Chola\n343\nITC Grand Chola\n"
     ]
    }
   ],
   "source": [
    "i=0\n",
    "for x in liste3:\n",
    "        print(i)\n",
    "        print(liste3[i])\n",
    "        i = i+1"
   ]
  },
  {
   "cell_type": "code",
   "execution_count": 10,
   "id": "solid-regulation",
   "metadata": {},
   "outputs": [
    {
     "output_type": "stream",
     "name": "stdout",
     "text": [
      "0 \t Accord Metropolitan \n\n1 \t Harrisons Chennai \n\n2 \t The Park Chennai \n\n3 \t The Raintree \n\n4 \t Lemon Tree Chennai \n\n5 \t Park Hyatt \n\n6 \t The Residency Towers \n\n7 \t FabHotel Blossoms T Nagar \n\n8 \t Peace Inn \n\n9 \t Radisson Blu GRT Chennai \n\n10 \t FabHotel Priyadarshini Park Mount Road \n\n11 \t Holiday Inn Express Chennai Mahindra World City \n\n12 \t The Raintree, St. Mary's Road \n\n13 \t Taj Club House \n\n14 \t The Residency Chennai \n\n15 \t ITC Grand Chola \n\n"
     ]
    },
    {
     "output_type": "execute_result",
     "data": {
      "text/plain": [
       "{'Accord Metropolitan': 39,\n",
       " 'Harrisons Chennai': 2,\n",
       " 'The Park Chennai': 18,\n",
       " 'The Raintree': 20,\n",
       " 'Lemon Tree Chennai': 24,\n",
       " 'Park Hyatt': 30,\n",
       " 'The Residency Towers': 30,\n",
       " 'FabHotel Blossoms T Nagar': 17,\n",
       " 'Peace Inn': 33,\n",
       " 'Radisson Blu GRT Chennai': 35,\n",
       " 'FabHotel Priyadarshini Park Mount Road': 23,\n",
       " 'Holiday Inn Express Chennai Mahindra World City': 3,\n",
       " \"The Raintree, St. Mary's Road\": 8,\n",
       " 'Taj Club House': 10,\n",
       " 'The Residency Chennai': 35,\n",
       " 'ITC Grand Chola': 17}"
      ]
     },
     "metadata": {},
     "execution_count": 10
    }
   ],
   "source": [
    "from collections import Counter\n",
    "otelSayisi = []\n",
    "x=0\n",
    "while x<len(liste3):\n",
    "    \n",
    "        if liste3[x] != liste3[x-1] :\n",
    "             otelSayisi.append(liste3[x])\n",
    "             \n",
    "        x =x + 1\n",
    "        \n",
    "\n",
    "        \n",
    "i=0\n",
    "for x in otelSayisi:\n",
    "     print(i ,\"\\t\", x, \"\\n\")\n",
    "     i += 1\n",
    "        \n",
    "        \n",
    "        \n",
    "c = Counter(liste3)  \n",
    "dict(c) #array için elamandan kaç tane var       \n",
    "        \n",
    "    \n",
    "    \n",
    "    \n"
   ]
  },
  {
   "cell_type": "code",
   "execution_count": 11,
   "id": "floppy-opportunity",
   "metadata": {},
   "outputs": [
    {
     "output_type": "stream",
     "name": "stdout",
     "text": [
      "Counter({'Accord Metropolitan': 39, 'Radisson Blu GRT Chennai': 35, 'The Residency Chennai': 35, 'Peace Inn': 33, 'Park Hyatt': 30, 'The Residency Towers': 30, 'Lemon Tree Chennai': 24, 'FabHotel Priyadarshini Park Mount Road': 23, 'The Raintree': 20, 'The Park Chennai': 18, 'FabHotel Blossoms T Nagar': 17, 'ITC Grand Chola': 17, 'Taj Club House': 10, \"The Raintree, St. Mary's Road\": 8, 'Holiday Inn Express Chennai Mahindra World City': 3, 'Harrisons Chennai': 2})\n"
     ]
    }
   ],
   "source": [
    "sorted(c)\n",
    "print(c)"
   ]
  },
  {
   "cell_type": "code",
   "execution_count": null,
   "id": "leading-rebecca",
   "metadata": {},
   "outputs": [],
   "source": []
  }
 ],
 "metadata": {
  "kernelspec": {
   "display_name": "Python 3",
   "language": "python",
   "name": "python3"
  },
  "language_info": {
   "codemirror_mode": {
    "name": "ipython",
    "version": 3
   },
   "file_extension": ".py",
   "mimetype": "text/x-python",
   "name": "python",
   "nbconvert_exporter": "python",
   "pygments_lexer": "ipython3",
   "version": "3.8.5-final"
  }
 },
 "nbformat": 4,
 "nbformat_minor": 5
}